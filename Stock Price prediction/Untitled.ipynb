{
 "cells": [
  {
   "cell_type": "markdown",
   "id": "5f41ab65",
   "metadata": {},
   "source": [
    "# Crypto Price Prediction"
   ]
  },
  {
   "cell_type": "markdown",
   "id": "f0da0f8a",
   "metadata": {},
   "source": [
    "In this project, I will be predicting apple stock price using pandas and scikit learn module(RandomForestClassifier). I'll be downloading the apple stock price data from Yahoo Finance, I will also do some analysis and show some plots on the downloaded data. I will create a model which will predict the prices of the apple stock and then finally i will create a backtesting engine with the data.\n",
    "\n",
    "The reason for this project: Since this project is associated with real life data, my goal is to be able to help real time traders predict if they should buy crypto or not. We'd want to know if the price is going to increase tomorrow so we can buy or if the price will drop so we don't do anything."
   ]
  },
  {
   "cell_type": "markdown",
   "id": "c7928bf4",
   "metadata": {},
   "source": [
    "## Method"
   ]
  },
  {
   "cell_type": "markdown",
   "id": "1203541c",
   "metadata": {},
   "source": [
    "-  We'll be downloading the apple stock price data from Yfinance which has the stock symbol 'AAPL'.\n",
    "-  Then we'll explore the dataset \n",
    "-  Then we'll be setting the dataset to predict future prices using historical prices\n",
    "-  We'll also test a machine learning model\n",
    "-  Setup a backtesting engine\n",
    "-  Improve the accuracy of the model\n"
   ]
  },
  {
   "cell_type": "code",
   "execution_count": 88,
   "id": "b1128549",
   "metadata": {},
   "outputs": [],
   "source": [
    "#importing the relevant libraries\n",
    "\n",
    "import pandas as pd\n",
    "import yfinance as yf\n",
    "import seaborn as sns\n",
    "import matplotlib.pyplot as plt"
   ]
  },
  {
   "cell_type": "code",
   "execution_count": 89,
   "id": "ea90fef0",
   "metadata": {},
   "outputs": [
    {
     "data": {
      "text/html": [
       "<div>\n",
       "<style scoped>\n",
       "    .dataframe tbody tr th:only-of-type {\n",
       "        vertical-align: middle;\n",
       "    }\n",
       "\n",
       "    .dataframe tbody tr th {\n",
       "        vertical-align: top;\n",
       "    }\n",
       "\n",
       "    .dataframe thead th {\n",
       "        text-align: right;\n",
       "    }\n",
       "</style>\n",
       "<table border=\"1\" class=\"dataframe\">\n",
       "  <thead>\n",
       "    <tr style=\"text-align: right;\">\n",
       "      <th></th>\n",
       "      <th>Open</th>\n",
       "      <th>High</th>\n",
       "      <th>Low</th>\n",
       "      <th>Close</th>\n",
       "      <th>Volume</th>\n",
       "      <th>Dividends</th>\n",
       "      <th>Stock Splits</th>\n",
       "    </tr>\n",
       "    <tr>\n",
       "      <th>Date</th>\n",
       "      <th></th>\n",
       "      <th></th>\n",
       "      <th></th>\n",
       "      <th></th>\n",
       "      <th></th>\n",
       "      <th></th>\n",
       "      <th></th>\n",
       "    </tr>\n",
       "  </thead>\n",
       "  <tbody>\n",
       "    <tr>\n",
       "      <th>1980-12-12</th>\n",
       "      <td>0.099722</td>\n",
       "      <td>0.100155</td>\n",
       "      <td>0.099722</td>\n",
       "      <td>0.099722</td>\n",
       "      <td>469033600</td>\n",
       "      <td>0.0</td>\n",
       "      <td>0.0</td>\n",
       "    </tr>\n",
       "    <tr>\n",
       "      <th>1980-12-15</th>\n",
       "      <td>0.094953</td>\n",
       "      <td>0.094953</td>\n",
       "      <td>0.094519</td>\n",
       "      <td>0.094519</td>\n",
       "      <td>175884800</td>\n",
       "      <td>0.0</td>\n",
       "      <td>0.0</td>\n",
       "    </tr>\n",
       "    <tr>\n",
       "      <th>1980-12-16</th>\n",
       "      <td>0.088015</td>\n",
       "      <td>0.088015</td>\n",
       "      <td>0.087582</td>\n",
       "      <td>0.087582</td>\n",
       "      <td>105728000</td>\n",
       "      <td>0.0</td>\n",
       "      <td>0.0</td>\n",
       "    </tr>\n",
       "    <tr>\n",
       "      <th>1980-12-17</th>\n",
       "      <td>0.089749</td>\n",
       "      <td>0.090183</td>\n",
       "      <td>0.089749</td>\n",
       "      <td>0.089749</td>\n",
       "      <td>86441600</td>\n",
       "      <td>0.0</td>\n",
       "      <td>0.0</td>\n",
       "    </tr>\n",
       "    <tr>\n",
       "      <th>1980-12-18</th>\n",
       "      <td>0.092351</td>\n",
       "      <td>0.092785</td>\n",
       "      <td>0.092351</td>\n",
       "      <td>0.092351</td>\n",
       "      <td>73449600</td>\n",
       "      <td>0.0</td>\n",
       "      <td>0.0</td>\n",
       "    </tr>\n",
       "  </tbody>\n",
       "</table>\n",
       "</div>"
      ],
      "text/plain": [
       "                Open      High       Low     Close     Volume  Dividends  \\\n",
       "Date                                                                       \n",
       "1980-12-12  0.099722  0.100155  0.099722  0.099722  469033600        0.0   \n",
       "1980-12-15  0.094953  0.094953  0.094519  0.094519  175884800        0.0   \n",
       "1980-12-16  0.088015  0.088015  0.087582  0.087582  105728000        0.0   \n",
       "1980-12-17  0.089749  0.090183  0.089749  0.089749   86441600        0.0   \n",
       "1980-12-18  0.092351  0.092785  0.092351  0.092351   73449600        0.0   \n",
       "\n",
       "            Stock Splits  \n",
       "Date                      \n",
       "1980-12-12           0.0  \n",
       "1980-12-15           0.0  \n",
       "1980-12-16           0.0  \n",
       "1980-12-17           0.0  \n",
       "1980-12-18           0.0  "
      ]
     },
     "execution_count": 89,
     "metadata": {},
     "output_type": "execute_result"
    }
   ],
   "source": [
    "#Downloading the apple stock data\n",
    "\n",
    "aapl = yf.Ticker(\"AAPL\")\n",
    "aapl_hist = aapl.history(period=\"max\")\n",
    "aapl_hist.head()"
   ]
  },
  {
   "cell_type": "markdown",
   "id": "e0ed10ad",
   "metadata": {},
   "source": [
    "## Data Exploration"
   ]
  },
  {
   "cell_type": "markdown",
   "id": "f36f0b89",
   "metadata": {},
   "source": [
    "### Feature description"
   ]
  },
  {
   "cell_type": "markdown",
   "id": "01e223f6",
   "metadata": {},
   "source": [
    "From exploring the aapl_hist data, we can see that it's a dataframe containing columns and rows of daily numbers of the Apple stock. Here are the details of the columns shown above:\n",
    "-  Date: date of observation\n",
    "-  Open: The opening price\n",
    "-  High: Highest price\n",
    "-  Low: Lowest price\n",
    "-  Close: The closing price\n",
    "-  Adj Close: The closing price after adjustments for splits and dividend\n",
    "-  Volume: Total stocks traded <br> \n",
    "\n",
    "The row index of the DataFrame is the date the stock was traded. Stock doesn't trade every day (there is no trading on weekends and holidays), so some dates are missing. "
   ]
  },
  {
   "cell_type": "markdown",
   "id": "8670e2ef",
   "metadata": {},
   "source": [
    "### Checking for missing values"
   ]
  },
  {
   "cell_type": "code",
   "execution_count": 90,
   "id": "4a9da02b",
   "metadata": {},
   "outputs": [
    {
     "data": {
      "text/plain": [
       "Open            False\n",
       "High            False\n",
       "Low             False\n",
       "Close           False\n",
       "Volume          False\n",
       "Dividends       False\n",
       "Stock Splits    False\n",
       "dtype: bool"
      ]
     },
     "execution_count": 90,
     "metadata": {},
     "output_type": "execute_result"
    }
   ],
   "source": [
    "aapl_hist.isnull().any()"
   ]
  },
  {
   "cell_type": "markdown",
   "id": "051906fe",
   "metadata": {},
   "source": [
    "As we can see there is no missing values in the dataset, so we'll prepare the data for the machine learning model"
   ]
  },
  {
   "cell_type": "markdown",
   "id": "03316125",
   "metadata": {},
   "source": [
    "### Plotting the 'Close' column"
   ]
  },
  {
   "cell_type": "code",
   "execution_count": 91,
   "id": "610ac257",
   "metadata": {},
   "outputs": [
    {
     "data": {
      "text/plain": [
       "<AxesSubplot:xlabel='Date'>"
      ]
     },
     "execution_count": 91,
     "metadata": {},
     "output_type": "execute_result"
    },
    {
     "data": {
      "image/png": "[encoded data removed]",
      "text/plain": [
       "<Figure size 432x288 with 1 Axes>"
      ]
     },
     "metadata": {
      "needs_background": "light"
     },
     "output_type": "display_data"
    }
   ],
   "source": [
    "aapl_hist.plot.line(y = \"Close\", use_index = True)"
   ]
  },
  {
   "cell_type": "markdown",
   "id": "ca95bf1c",
   "metadata": {},
   "source": [
    "We see that the closing price was hightest between 2020 and the present date."
   ]
  },
  {
   "cell_type": "code",
   "execution_count": 92,
   "id": "ae8a2f7a",
   "metadata": {},
   "outputs": [
    {
     "data": {
      "text/html": [
       "<style type=\"text/css\">\n",
       "#T_90878_row0_col0, #T_90878_row0_col1, #T_90878_row0_col2, #T_90878_row0_col3, #T_90878_row1_col0, #T_90878_row1_col1, #T_90878_row1_col2, #T_90878_row1_col3, #T_90878_row2_col0, #T_90878_row2_col1, #T_90878_row2_col2, #T_90878_row2_col3, #T_90878_row3_col0, #T_90878_row3_col1, #T_90878_row3_col2, #T_90878_row3_col3, #T_90878_row4_col4, #T_90878_row5_col5, #T_90878_row6_col6 {\n",
       "  background-color: #b40426;\n",
       "  color: #f1f1f1;\n",
       "}\n",
       "#T_90878_row0_col4, #T_90878_row1_col4, #T_90878_row2_col4, #T_90878_row3_col4, #T_90878_row4_col0, #T_90878_row4_col1, #T_90878_row4_col2, #T_90878_row4_col3, #T_90878_row4_col5, #T_90878_row4_col6, #T_90878_row5_col6 {\n",
       "  background-color: #3b4cc0;\n",
       "  color: #f1f1f1;\n",
       "}\n",
       "#T_90878_row0_col5, #T_90878_row1_col5, #T_90878_row2_col5, #T_90878_row3_col5 {\n",
       "  background-color: #6282ea;\n",
       "  color: #f1f1f1;\n",
       "}\n",
       "#T_90878_row0_col6, #T_90878_row1_col6, #T_90878_row2_col6, #T_90878_row3_col6 {\n",
       "  background-color: #3e51c5;\n",
       "  color: #f1f1f1;\n",
       "}\n",
       "#T_90878_row5_col0, #T_90878_row5_col1, #T_90878_row5_col2, #T_90878_row5_col3 {\n",
       "  background-color: #90b2fe;\n",
       "  color: #000000;\n",
       "}\n",
       "#T_90878_row5_col4 {\n",
       "  background-color: #6b8df0;\n",
       "  color: #f1f1f1;\n",
       "}\n",
       "#T_90878_row6_col0, #T_90878_row6_col1, #T_90878_row6_col2, #T_90878_row6_col3 {\n",
       "  background-color: #779af7;\n",
       "  color: #f1f1f1;\n",
       "}\n",
       "#T_90878_row6_col4 {\n",
       "  background-color: #7597f6;\n",
       "  color: #f1f1f1;\n",
       "}\n",
       "#T_90878_row6_col5 {\n",
       "  background-color: #4358cb;\n",
       "  color: #f1f1f1;\n",
       "}\n",
       "</style>\n",
       "<table id=\"T_90878\">\n",
       "  <thead>\n",
       "    <tr>\n",
       "      <th class=\"blank level0\" >&nbsp;</th>\n",
       "      <th id=\"T_90878_level0_col0\" class=\"col_heading level0 col0\" >Open</th>\n",
       "      <th id=\"T_90878_level0_col1\" class=\"col_heading level0 col1\" >High</th>\n",
       "      <th id=\"T_90878_level0_col2\" class=\"col_heading level0 col2\" >Low</th>\n",
       "      <th id=\"T_90878_level0_col3\" class=\"col_heading level0 col3\" >Close</th>\n",
       "      <th id=\"T_90878_level0_col4\" class=\"col_heading level0 col4\" >Volume</th>\n",
       "      <th id=\"T_90878_level0_col5\" class=\"col_heading level0 col5\" >Dividends</th>\n",
       "      <th id=\"T_90878_level0_col6\" class=\"col_heading level0 col6\" >Stock Splits</th>\n",
       "    </tr>\n",
       "  </thead>\n",
       "  <tbody>\n",
       "    <tr>\n",
       "      <th id=\"T_90878_level0_row0\" class=\"row_heading level0 row0\" >Open</th>\n",
       "      <td id=\"T_90878_row0_col0\" class=\"data row0 col0\" >1.000000</td>\n",
       "      <td id=\"T_90878_row0_col1\" class=\"data row0 col1\" >0.999938</td>\n",
       "      <td id=\"T_90878_row0_col2\" class=\"data row0 col2\" >0.999925</td>\n",
       "      <td id=\"T_90878_row0_col3\" class=\"data row0 col3\" >0.999841</td>\n",
       "      <td id=\"T_90878_row0_col4\" class=\"data row0 col4\" >-0.220496</td>\n",
       "      <td id=\"T_90878_row0_col5\" class=\"data row0 col5\" >0.097956</td>\n",
       "      <td id=\"T_90878_row0_col6\" class=\"data row0 col6\" >0.011547</td>\n",
       "    </tr>\n",
       "    <tr>\n",
       "      <th id=\"T_90878_level0_row1\" class=\"row_heading level0 row1\" >High</th>\n",
       "      <td id=\"T_90878_row1_col0\" class=\"data row1 col0\" >0.999938</td>\n",
       "      <td id=\"T_90878_row1_col1\" class=\"data row1 col1\" >1.000000</td>\n",
       "      <td id=\"T_90878_row1_col2\" class=\"data row1 col2\" >0.999913</td>\n",
       "      <td id=\"T_90878_row1_col3\" class=\"data row1 col3\" >0.999926</td>\n",
       "      <td id=\"T_90878_row1_col4\" class=\"data row1 col4\" >-0.220006</td>\n",
       "      <td id=\"T_90878_row1_col5\" class=\"data row1 col5\" >0.097456</td>\n",
       "      <td id=\"T_90878_row1_col6\" class=\"data row1 col6\" >0.011784</td>\n",
       "    </tr>\n",
       "    <tr>\n",
       "      <th id=\"T_90878_level0_row2\" class=\"row_heading level0 row2\" >Low</th>\n",
       "      <td id=\"T_90878_row2_col0\" class=\"data row2 col0\" >0.999925</td>\n",
       "      <td id=\"T_90878_row2_col1\" class=\"data row2 col1\" >0.999913</td>\n",
       "      <td id=\"T_90878_row2_col2\" class=\"data row2 col2\" >1.000000</td>\n",
       "      <td id=\"T_90878_row2_col3\" class=\"data row2 col3\" >0.999928</td>\n",
       "      <td id=\"T_90878_row2_col4\" class=\"data row2 col4\" >-0.221260</td>\n",
       "      <td id=\"T_90878_row2_col5\" class=\"data row2 col5\" >0.097812</td>\n",
       "      <td id=\"T_90878_row2_col6\" class=\"data row2 col6\" >0.011538</td>\n",
       "    </tr>\n",
       "    <tr>\n",
       "      <th id=\"T_90878_level0_row3\" class=\"row_heading level0 row3\" >Close</th>\n",
       "      <td id=\"T_90878_row3_col0\" class=\"data row3 col0\" >0.999841</td>\n",
       "      <td id=\"T_90878_row3_col1\" class=\"data row3 col1\" >0.999926</td>\n",
       "      <td id=\"T_90878_row3_col2\" class=\"data row3 col2\" >0.999928</td>\n",
       "      <td id=\"T_90878_row3_col3\" class=\"data row3 col3\" >1.000000</td>\n",
       "      <td id=\"T_90878_row3_col4\" class=\"data row3 col4\" >-0.220643</td>\n",
       "      <td id=\"T_90878_row3_col5\" class=\"data row3 col5\" >0.097738</td>\n",
       "      <td id=\"T_90878_row3_col6\" class=\"data row3 col6\" >0.011764</td>\n",
       "    </tr>\n",
       "    <tr>\n",
       "      <th id=\"T_90878_level0_row4\" class=\"row_heading level0 row4\" >Volume</th>\n",
       "      <td id=\"T_90878_row4_col0\" class=\"data row4 col0\" >-0.220496</td>\n",
       "      <td id=\"T_90878_row4_col1\" class=\"data row4 col1\" >-0.220006</td>\n",
       "      <td id=\"T_90878_row4_col2\" class=\"data row4 col2\" >-0.221260</td>\n",
       "      <td id=\"T_90878_row4_col3\" class=\"data row4 col3\" >-0.220643</td>\n",
       "      <td id=\"T_90878_row4_col4\" class=\"data row4 col4\" >1.000000</td>\n",
       "      <td id=\"T_90878_row4_col5\" class=\"data row4 col5\" >-0.032202</td>\n",
       "      <td id=\"T_90878_row4_col6\" class=\"data row4 col6\" >0.001417</td>\n",
       "    </tr>\n",
       "    <tr>\n",
       "      <th id=\"T_90878_level0_row5\" class=\"row_heading level0 row5\" >Dividends</th>\n",
       "      <td id=\"T_90878_row5_col0\" class=\"data row5 col0\" >0.097956</td>\n",
       "      <td id=\"T_90878_row5_col1\" class=\"data row5 col1\" >0.097456</td>\n",
       "      <td id=\"T_90878_row5_col2\" class=\"data row5 col2\" >0.097812</td>\n",
       "      <td id=\"T_90878_row5_col3\" class=\"data row5 col3\" >0.097738</td>\n",
       "      <td id=\"T_90878_row5_col4\" class=\"data row5 col4\" >-0.032202</td>\n",
       "      <td id=\"T_90878_row5_col5\" class=\"data row5 col5\" >1.000000</td>\n",
       "      <td id=\"T_90878_row5_col6\" class=\"data row5 col6\" >-0.001160</td>\n",
       "    </tr>\n",
       "    <tr>\n",
       "      <th id=\"T_90878_level0_row6\" class=\"row_heading level0 row6\" >Stock Splits</th>\n",
       "      <td id=\"T_90878_row6_col0\" class=\"data row6 col0\" >0.011547</td>\n",
       "      <td id=\"T_90878_row6_col1\" class=\"data row6 col1\" >0.011784</td>\n",
       "      <td id=\"T_90878_row6_col2\" class=\"data row6 col2\" >0.011538</td>\n",
       "      <td id=\"T_90878_row6_col3\" class=\"data row6 col3\" >0.011764</td>\n",
       "      <td id=\"T_90878_row6_col4\" class=\"data row6 col4\" >0.001417</td>\n",
       "      <td id=\"T_90878_row6_col5\" class=\"data row6 col5\" >-0.001160</td>\n",
       "      <td id=\"T_90878_row6_col6\" class=\"data row6 col6\" >1.000000</td>\n",
       "    </tr>\n",
       "  </tbody>\n",
       "</table>\n"
      ],
      "text/plain": [
       "<pandas.io.formats.style.Styler at 0x7fbfe31b60a0>"
      ]
     },
     "execution_count": 92,
     "metadata": {},
     "output_type": "execute_result"
    }
   ],
   "source": [
    "corr = aapl_hist.corr()\n",
    "corr.style.background_gradient(cmap='coolwarm')"
   ]
  },
  {
   "cell_type": "markdown",
   "id": "cf626f5a",
   "metadata": {},
   "source": [
    "There is high correlation between Open, High, Low and Close"
   ]
  },
  {
   "cell_type": "markdown",
   "id": "1e874f35",
   "metadata": {},
   "source": [
    "## Data Preparation"
   ]
  },
  {
   "cell_type": "markdown",
   "id": "e409e7c0",
   "metadata": {},
   "source": [
    "Remember that we mentioned something about predicting the future prices of the apple stock, now the first step in doing that is to first identify the target in which we are trying to predict. Our target will be 0 if the price goes down and 1 if the price goes up.<br><br>Next, we'll shift the data from previous days \"forward\" one day, so we can use it to predict the target price. This ensures that we don't accidentally use data from the same day to make predictions! (a very common mistake)\n",
    "\n",
    "Then, we'll combine both so we have our training data."
   ]
  },
  {
   "cell_type": "markdown",
   "id": "d2274602",
   "metadata": {},
   "source": [
    "### Creating the Target"
   ]
  },
  {
   "cell_type": "markdown",
   "id": "40cce33f",
   "metadata": {},
   "source": [
    "We do this by first copying the Close column to a new DataFrame called data and renaming it to actual_close. This ensures that we can continue to see the value that the stock actually closed at on each day. (we'll be shifting things around later, so it's important to preserve this).\n",
    "\n",
    "Then, we setup our target by doing the following:\n",
    "\n",
    "- Using the pandas rolling method across every 2 rows of the DataFrame. This will first look at ('1980-12-12', '1986-12-15'), then ('1980-12-15', '1980-12-16'), and so on across the DataFrame.\n",
    "- We will compare the second row to the first row to see if it is greater. If it is, return 1, otherwise 0.\n",
    "- We then just look at the Close column.<br>\n",
    "\n",
    "As you can see above, the Target column now indicates if the price went up or down on the given day. If Target is 1, the price went up. If Target is 0, the price went down.\n",
    "\n",
    "This is what we want our machine learning model to predict!"
   ]
  },
  {
   "cell_type": "code",
   "execution_count": 93,
   "id": "39066f95",
   "metadata": {},
   "outputs": [],
   "source": [
    "# Copying the close pice\n",
    "data = aapl_hist[[\"Close\"]]\n",
    "data = data.rename(columns = {\"Close\": \"Actual_Close\"})\n",
    "\n",
    "#Creating our target column\n",
    "data[\"Target\"] = aapl_hist.rolling(2).apply(lambda x: x.iloc[1] > x.iloc[0])[\"Close\"]"
   ]
  },
  {
   "cell_type": "code",
   "execution_count": 94,
   "id": "bf033e0c",
   "metadata": {},
   "outputs": [
    {
     "data": {
      "text/html": [
       "<div>\n",
       "<style scoped>\n",
       "    .dataframe tbody tr th:only-of-type {\n",
       "        vertical-align: middle;\n",
       "    }\n",
       "\n",
       "    .dataframe tbody tr th {\n",
       "        vertical-align: top;\n",
       "    }\n",
       "\n",
       "    .dataframe thead th {\n",
       "        text-align: right;\n",
       "    }\n",
       "</style>\n",
       "<table border=\"1\" class=\"dataframe\">\n",
       "  <thead>\n",
       "    <tr style=\"text-align: right;\">\n",
       "      <th></th>\n",
       "      <th>Actual_Close</th>\n",
       "      <th>Target</th>\n",
       "    </tr>\n",
       "    <tr>\n",
       "      <th>Date</th>\n",
       "      <th></th>\n",
       "      <th></th>\n",
       "    </tr>\n",
       "  </thead>\n",
       "  <tbody>\n",
       "    <tr>\n",
       "      <th>1980-12-12</th>\n",
       "      <td>0.099722</td>\n",
       "      <td>NaN</td>\n",
       "    </tr>\n",
       "    <tr>\n",
       "      <th>1980-12-15</th>\n",
       "      <td>0.094519</td>\n",
       "      <td>0.0</td>\n",
       "    </tr>\n",
       "    <tr>\n",
       "      <th>1980-12-16</th>\n",
       "      <td>0.087582</td>\n",
       "      <td>0.0</td>\n",
       "    </tr>\n",
       "    <tr>\n",
       "      <th>1980-12-17</th>\n",
       "      <td>0.089749</td>\n",
       "      <td>1.0</td>\n",
       "    </tr>\n",
       "    <tr>\n",
       "      <th>1980-12-18</th>\n",
       "      <td>0.092351</td>\n",
       "      <td>1.0</td>\n",
       "    </tr>\n",
       "  </tbody>\n",
       "</table>\n",
       "</div>"
      ],
      "text/plain": [
       "            Actual_Close  Target\n",
       "Date                            \n",
       "1980-12-12      0.099722     NaN\n",
       "1980-12-15      0.094519     0.0\n",
       "1980-12-16      0.087582     0.0\n",
       "1980-12-17      0.089749     1.0\n",
       "1980-12-18      0.092351     1.0"
      ]
     },
     "execution_count": 94,
     "metadata": {},
     "output_type": "execute_result"
    }
   ],
   "source": [
    "data.head()"
   ]
  },
  {
   "cell_type": "markdown",
   "id": "84b9fe1b",
   "metadata": {},
   "source": [
    "### Shifting the data forward"
   ]
  },
  {
   "cell_type": "markdown",
   "id": "b57742a2",
   "metadata": {},
   "source": [
    "In this part, we'll be using the pandas dataframe __[shift](https://pandas.pydata.org/docs/reference/api/pandas.DataFrame.shift.html?highlight=shift#pandas.DataFrame.shift )__ method to move all rows forward by one trading day.<br><br>If this is not done, we'll be predicting tomorrow's price with tomorrow's information. E.g using 1980-12-12 to predict the target of 1980-12-12 and this will give us a great output when testing the model but when applied to real life we'll find that we'll do so poorly."
   ]
  },
  {
   "cell_type": "code",
   "execution_count": 95,
   "id": "65f4882d",
   "metadata": {},
   "outputs": [],
   "source": [
    "#shifting the data one row forward\n",
    "aapl_prev = aapl_hist.copy()\n",
    "aapl_prev = aapl_prev.shift(1)"
   ]
  },
  {
   "cell_type": "code",
   "execution_count": 96,
   "id": "e30ac2d2",
   "metadata": {},
   "outputs": [
    {
     "data": {
      "text/html": [
       "<div>\n",
       "<style scoped>\n",
       "    .dataframe tbody tr th:only-of-type {\n",
       "        vertical-align: middle;\n",
       "    }\n",
       "\n",
       "    .dataframe tbody tr th {\n",
       "        vertical-align: top;\n",
       "    }\n",
       "\n",
       "    .dataframe thead th {\n",
       "        text-align: right;\n",
       "    }\n",
       "</style>\n",
       "<table border=\"1\" class=\"dataframe\">\n",
       "  <thead>\n",
       "    <tr style=\"text-align: right;\">\n",
       "      <th></th>\n",
       "      <th>Open</th>\n",
       "      <th>High</th>\n",
       "      <th>Low</th>\n",
       "      <th>Close</th>\n",
       "      <th>Volume</th>\n",
       "      <th>Dividends</th>\n",
       "      <th>Stock Splits</th>\n",
       "    </tr>\n",
       "    <tr>\n",
       "      <th>Date</th>\n",
       "      <th></th>\n",
       "      <th></th>\n",
       "      <th></th>\n",
       "      <th></th>\n",
       "      <th></th>\n",
       "      <th></th>\n",
       "      <th></th>\n",
       "    </tr>\n",
       "  </thead>\n",
       "  <tbody>\n",
       "    <tr>\n",
       "      <th>1980-12-12</th>\n",
       "      <td>NaN</td>\n",
       "      <td>NaN</td>\n",
       "      <td>NaN</td>\n",
       "      <td>NaN</td>\n",
       "      <td>NaN</td>\n",
       "      <td>NaN</td>\n",
       "      <td>NaN</td>\n",
       "    </tr>\n",
       "    <tr>\n",
       "      <th>1980-12-15</th>\n",
       "      <td>0.099722</td>\n",
       "      <td>0.100155</td>\n",
       "      <td>0.099722</td>\n",
       "      <td>0.099722</td>\n",
       "      <td>469033600.0</td>\n",
       "      <td>0.0</td>\n",
       "      <td>0.0</td>\n",
       "    </tr>\n",
       "    <tr>\n",
       "      <th>1980-12-16</th>\n",
       "      <td>0.094953</td>\n",
       "      <td>0.094953</td>\n",
       "      <td>0.094519</td>\n",
       "      <td>0.094519</td>\n",
       "      <td>175884800.0</td>\n",
       "      <td>0.0</td>\n",
       "      <td>0.0</td>\n",
       "    </tr>\n",
       "    <tr>\n",
       "      <th>1980-12-17</th>\n",
       "      <td>0.088015</td>\n",
       "      <td>0.088015</td>\n",
       "      <td>0.087582</td>\n",
       "      <td>0.087582</td>\n",
       "      <td>105728000.0</td>\n",
       "      <td>0.0</td>\n",
       "      <td>0.0</td>\n",
       "    </tr>\n",
       "    <tr>\n",
       "      <th>1980-12-18</th>\n",
       "      <td>0.089749</td>\n",
       "      <td>0.090183</td>\n",
       "      <td>0.089749</td>\n",
       "      <td>0.089749</td>\n",
       "      <td>86441600.0</td>\n",
       "      <td>0.0</td>\n",
       "      <td>0.0</td>\n",
       "    </tr>\n",
       "  </tbody>\n",
       "</table>\n",
       "</div>"
      ],
      "text/plain": [
       "                Open      High       Low     Close       Volume  Dividends  \\\n",
       "Date                                                                         \n",
       "1980-12-12       NaN       NaN       NaN       NaN          NaN        NaN   \n",
       "1980-12-15  0.099722  0.100155  0.099722  0.099722  469033600.0        0.0   \n",
       "1980-12-16  0.094953  0.094953  0.094519  0.094519  175884800.0        0.0   \n",
       "1980-12-17  0.088015  0.088015  0.087582  0.087582  105728000.0        0.0   \n",
       "1980-12-18  0.089749  0.090183  0.089749  0.089749   86441600.0        0.0   \n",
       "\n",
       "            Stock Splits  \n",
       "Date                      \n",
       "1980-12-12           NaN  \n",
       "1980-12-15           0.0  \n",
       "1980-12-16           0.0  \n",
       "1980-12-17           0.0  \n",
       "1980-12-18           0.0  "
      ]
     },
     "execution_count": 96,
     "metadata": {},
     "output_type": "execute_result"
    }
   ],
   "source": [
    "aapl_prev.head()"
   ]
  },
  {
   "cell_type": "markdown",
   "id": "fd91c9fc",
   "metadata": {},
   "source": [
    "### Combining our data"
   ]
  },
  {
   "cell_type": "markdown",
   "id": "ef60e394",
   "metadata": {},
   "source": [
    "Next, we'll combine out Target column with the columns we want to use to make predictions. We'll use the pandas __[join](https://pandas.pydata.org/docs/reference/api/pandas.DataFrame.join.html?highlight=join#pandas.DataFrame.join)__ method to join our DataFrames.<br><br> After we join our data, we see that we'll be predicting the target using data from the previous day. The columns we'll use to predict our target are [\"Close\", \"Volume\", \"Open\", \"High\", \"Low\"]."
   ]
  },
  {
   "cell_type": "code",
   "execution_count": 97,
   "id": "b4e8518d",
   "metadata": {},
   "outputs": [],
   "source": [
    "predictors = [\"Close\", \"Volume\", \"Open\", \"High\", \"Low\"]\n",
    "data = data.join(aapl_prev[predictors]).iloc[1:]"
   ]
  },
  {
   "cell_type": "code",
   "execution_count": 98,
   "id": "e35fcde9",
   "metadata": {},
   "outputs": [
    {
     "data": {
      "text/html": [
       "<div>\n",
       "<style scoped>\n",
       "    .dataframe tbody tr th:only-of-type {\n",
       "        vertical-align: middle;\n",
       "    }\n",
       "\n",
       "    .dataframe tbody tr th {\n",
       "        vertical-align: top;\n",
       "    }\n",
       "\n",
       "    .dataframe thead th {\n",
       "        text-align: right;\n",
       "    }\n",
       "</style>\n",
       "<table border=\"1\" class=\"dataframe\">\n",
       "  <thead>\n",
       "    <tr style=\"text-align: right;\">\n",
       "      <th></th>\n",
       "      <th>Actual_Close</th>\n",
       "      <th>Target</th>\n",
       "      <th>Close</th>\n",
       "      <th>Volume</th>\n",
       "      <th>Open</th>\n",
       "      <th>High</th>\n",
       "      <th>Low</th>\n",
       "    </tr>\n",
       "    <tr>\n",
       "      <th>Date</th>\n",
       "      <th></th>\n",
       "      <th></th>\n",
       "      <th></th>\n",
       "      <th></th>\n",
       "      <th></th>\n",
       "      <th></th>\n",
       "      <th></th>\n",
       "    </tr>\n",
       "  </thead>\n",
       "  <tbody>\n",
       "    <tr>\n",
       "      <th>1980-12-15</th>\n",
       "      <td>0.094519</td>\n",
       "      <td>0.0</td>\n",
       "      <td>0.099722</td>\n",
       "      <td>469033600.0</td>\n",
       "      <td>0.099722</td>\n",
       "      <td>0.100155</td>\n",
       "      <td>0.099722</td>\n",
       "    </tr>\n",
       "    <tr>\n",
       "      <th>1980-12-16</th>\n",
       "      <td>0.087582</td>\n",
       "      <td>0.0</td>\n",
       "      <td>0.094519</td>\n",
       "      <td>175884800.0</td>\n",
       "      <td>0.094953</td>\n",
       "      <td>0.094953</td>\n",
       "      <td>0.094519</td>\n",
       "    </tr>\n",
       "    <tr>\n",
       "      <th>1980-12-17</th>\n",
       "      <td>0.089749</td>\n",
       "      <td>1.0</td>\n",
       "      <td>0.087582</td>\n",
       "      <td>105728000.0</td>\n",
       "      <td>0.088015</td>\n",
       "      <td>0.088015</td>\n",
       "      <td>0.087582</td>\n",
       "    </tr>\n",
       "    <tr>\n",
       "      <th>1980-12-18</th>\n",
       "      <td>0.092351</td>\n",
       "      <td>1.0</td>\n",
       "      <td>0.089749</td>\n",
       "      <td>86441600.0</td>\n",
       "      <td>0.089749</td>\n",
       "      <td>0.090183</td>\n",
       "      <td>0.089749</td>\n",
       "    </tr>\n",
       "    <tr>\n",
       "      <th>1980-12-19</th>\n",
       "      <td>0.097987</td>\n",
       "      <td>1.0</td>\n",
       "      <td>0.092351</td>\n",
       "      <td>73449600.0</td>\n",
       "      <td>0.092351</td>\n",
       "      <td>0.092785</td>\n",
       "      <td>0.092351</td>\n",
       "    </tr>\n",
       "  </tbody>\n",
       "</table>\n",
       "</div>"
      ],
      "text/plain": [
       "            Actual_Close  Target     Close       Volume      Open      High  \\\n",
       "Date                                                                          \n",
       "1980-12-15      0.094519     0.0  0.099722  469033600.0  0.099722  0.100155   \n",
       "1980-12-16      0.087582     0.0  0.094519  175884800.0  0.094953  0.094953   \n",
       "1980-12-17      0.089749     1.0  0.087582  105728000.0  0.088015  0.088015   \n",
       "1980-12-18      0.092351     1.0  0.089749   86441600.0  0.089749  0.090183   \n",
       "1980-12-19      0.097987     1.0  0.092351   73449600.0  0.092351  0.092785   \n",
       "\n",
       "                 Low  \n",
       "Date                  \n",
       "1980-12-15  0.099722  \n",
       "1980-12-16  0.094519  \n",
       "1980-12-17  0.087582  \n",
       "1980-12-18  0.089749  \n",
       "1980-12-19  0.092351  "
      ]
     },
     "execution_count": 98,
     "metadata": {},
     "output_type": "execute_result"
    }
   ],
   "source": [
    "data.head()"
   ]
  },
  {
   "cell_type": "markdown",
   "id": "cefc9d0a",
   "metadata": {},
   "source": [
    "## Machine Learning Model"
   ]
  },
  {
   "cell_type": "markdown",
   "id": "547174ed",
   "metadata": {},
   "source": [
    "Next, we'll create a machine learning model to see how accurately we can predict the stock price.\n",
    "\n",
    "Since we're dealing with time series data, we won't use cross-validation to create predictions for the whole dataset. This will cause leakage where data from the future will be used to predict past prices. This doesn't match with the real world, and will make us think that our algorithm is much better than it actually is.\n",
    "\n",
    "So we'll be splitting our data sequentially, we'll start off by predicting just the last 100 rows using the other rows.\n",
    "\n",
    "We'll use a random forest classifier to generate our predictions."
   ]
  },
  {
   "cell_type": "markdown",
   "id": "4186c78d",
   "metadata": {},
   "source": [
    "### Model Setup "
   ]
  },
  {
   "cell_type": "markdown",
   "id": "fb1222b8",
   "metadata": {},
   "source": [
    "Since we're using a __[RandomForestClassifier](https://scikit-learn.org/stable/modules/generated/sklearn.ensemble.RandomForestClassifier.html)__ model, the first thing we'll do is to import the model from scikit-learn. If you do not have scikit-learn you can install it on your environment with !pip install scikit-learn. \n",
    "\n",
    "We're trying to get a 0 or 1 target, hence it is a classification problem. We can also use logistic regression to solve this problem too. \n",
    "\n",
    "When we initialize the model, we pass in a few parameters:\n",
    "\n",
    "- n_estimators - this is the number of individual decision trees that the algorithm should create. A random forest is an ensemble of decision trees that is more robust to overfitting than an individual tree. The more trees, the more robust the algorithm, but fewer trees means it runs faster.\n",
    "- min_samples_split - this is minimum number of samples any decision tree should split on. The lower this is, the more prone the trees are to overfitting. Setting it higher also makes it run faster.\n",
    "- random_state - this is nice to set so that running the algorithm twice over the same data returns the same results."
   ]
  },
  {
   "cell_type": "code",
   "execution_count": 99,
   "id": "e341044d",
   "metadata": {},
   "outputs": [],
   "source": [
    "#!pip install scikit-learn\n",
    "#skip the above step if you have scikit-learn\n",
    "\n",
    "from sklearn.ensemble import RandomForestClassifier\n",
    "import numpy as np\n",
    "\n",
    "#creating the model\n",
    "model = RandomForestClassifier(n_estimators = 100, min_samples_split = 200, random_state = 1)"
   ]
  },
  {
   "cell_type": "markdown",
   "id": "c6458d77",
   "metadata": {},
   "source": [
    "### Training the Model"
   ]
  },
  {
   "cell_type": "markdown",
   "id": "68df269e",
   "metadata": {},
   "source": [
    "Once we've setup the model, we can train it on the last 100 rows of the dataset. We're using all of the data except the last 100 rows to predict the last 100 rows. When you're working with time series data, it's important to never use future data to predict the past.\n",
    "\n",
    "The fit method will train the model using our predictors to predict the Target."
   ]
  },
  {
   "cell_type": "code",
   "execution_count": 100,
   "id": "cc51723d",
   "metadata": {},
   "outputs": [
    {
     "data": {
      "text/plain": [
       "RandomForestClassifier(min_samples_split=200, random_state=1)"
      ]
     },
     "execution_count": 100,
     "metadata": {},
     "output_type": "execute_result"
    }
   ],
   "source": [
    "#splitting the model into train data and test data\n",
    "train = data.iloc[:-100]\n",
    "test = data.iloc[-100:]\n",
    "\n",
    "#fitting the model\n",
    "model.fit(train[predictors], train[\"Target\"])"
   ]
  },
  {
   "cell_type": "markdown",
   "id": "4a9b8730",
   "metadata": {},
   "source": [
    "### Measuring Error"
   ]
  },
  {
   "cell_type": "markdown",
   "id": "350863e9",
   "metadata": {},
   "source": [
    "We'll be measuring the accuracy of the model using a precision score. We'll do this using a precision score function in scikit-learn. By doing this, we get a percentage of how many times our model predicted correctly that a price will go up and it eventually did. This will help us minimize our risk.\n",
    "\n",
    "Here are the steps we'll follow;\n",
    "- import the scikit-learn precision_score function\n",
    "- Generate predictions from our model using the predict function. This will give us a 0 or a 1 for each row.\n",
    "- The predict method returns a numpy array. To make it easier to work with, we'll turn it into a pandas Series.\n",
    "- Finally, we execute the precision_score function, passing in the predictions and the target."
   ]
  },
  {
   "cell_type": "code",
   "execution_count": 101,
   "id": "2805a688",
   "metadata": {},
   "outputs": [
    {
     "data": {
      "text/plain": [
       "0.5571428571428572"
      ]
     },
     "execution_count": 101,
     "metadata": {},
     "output_type": "execute_result"
    }
   ],
   "source": [
    "from sklearn.metrics import precision_score\n",
    "\n",
    "preds = model.predict(test[predictors])\n",
    "preds = pd.Series(preds, index=test.index)\n",
    "precision_score(test[\"Target\"], preds)"
   ]
  },
  {
   "cell_type": "markdown",
   "id": "4ec17566",
   "metadata": {},
   "source": [
    "Our model has an accuracy of 56% at the moment. We can take a deeper look at the individual predictions and the actuals, and see where we're off. And how we can make it better.\n",
    "\n",
    "We can do this by plotting the target against the predictions. We do this by first combining the Target column and Predictions column into one DataFrame using the concat function. This function joins two pandas objects. In this case, each object is a series, so we want to join them on axis=1, so each one becomes a column.\n",
    "\n",
    "Then, we can plot the DataFrame to visualize both columns.\n"
   ]
  },
  {
   "cell_type": "code",
   "execution_count": 102,
   "id": "7e2b9584",
   "metadata": {},
   "outputs": [
    {
     "data": {
      "text/plain": [
       "<AxesSubplot:xlabel='Date'>"
      ]
     },
     "execution_count": 102,
     "metadata": {},
     "output_type": "execute_result"
    },
    {
     "data": {
      "image/png": "[encoded data removed]",
      "text/plain": [
       "<Figure size 432x288 with 1 Axes>"
      ]
     },
     "metadata": {
      "needs_background": "light"
     },
     "output_type": "display_data"
    }
   ],
   "source": [
    "combined = pd.concat({\"Target\":test[\"Target\"], \"Predictions\": preds}, axis = 1)\n",
    "combined.plot()"
   ]
  },
  {
   "cell_type": "markdown",
   "id": "0ced52c8",
   "metadata": {},
   "source": [
    "we can see that some days the predictions were off while some days it was on point"
   ]
  },
  {
   "cell_type": "markdown",
   "id": "1d95ae74",
   "metadata": {},
   "source": [
    "## Creating a Backtesting Engine"
   ]
  },
  {
   "cell_type": "markdown",
   "id": "6f585e39",
   "metadata": {},
   "source": [
    "From all we have done so far you can tell that our model is not great, but here's the good news; it can be improved. Now all we have to do is to figure out a way to predict on the whole dataset and not just the last 100 days. This is where the backtesting engine comes in. \n",
    "\n",
    "I know we all have questions as to what a backtesting engine is and what is it function. With Backtesting Engine, you can test your trading strategy with historical data and see how it would have worked in various market scenarios. It's a safeguard against what could happen if you make a mistake in live trading so that when you do go live, you have a greater chance of success. Meaning we can use more days in the dataset to make predictions\n",
    "\n",
    "Our backtesting method will loop over the dataset, and train a model every 800 rows. We'll make it a function so we can avoid rewriting the code if we want to backtest again. Ideally, we'd train a model more often than every 800 rows, but for speed purposes we will set the number high.\n",
    "\n",
    "Before we write our full backtesting loop, let's write the code for a single iteration. In the below code:\n",
    "\n",
    "- We'll take the first 1000 rows of the data as our training set\n",
    "- We'll take the next 800 rows as our testing set\n",
    "- We'll fit our machine learning model to the training set\n",
    "- We'll make predictions on the test set\n",
    "\n",
    "This is similar to what we did before, but we changed which rows we're looking at."
   ]
  },
  {
   "cell_type": "code",
   "execution_count": 103,
   "id": "582ce2d7",
   "metadata": {},
   "outputs": [],
   "source": [
    "#Creating the backtest engine with a backtest function\n",
    "\n",
    "def backtest(data, model, predictors, start=1000, step=800):\n",
    "    predictions = []\n",
    "    \n",
    "    #loop through increment in the dataset\n",
    "    for i in range(start, data.shape[0], step):\n",
    "        #split data into train and test\n",
    "        train = data.iloc[0:i].copy()\n",
    "        test = data.iloc[i:(i+step)].copy()\n",
    "        \n",
    "        #fit the model\n",
    "        model.fit(train[predictors],train[\"Target\"])\n",
    "        \n",
    "        #Make the predictions\n",
    "        preds = model.predict_proba(test[predictors])[:,1]\n",
    "        preds = pd.Series(preds, index = test.index)\n",
    "        preds[preds > .6] = 1\n",
    "        preds[preds <= .6] = 0\n",
    "        \n",
    "        #combining the datsets\n",
    "        combined = pd.concat({\"Target\": test[\"Target\"], \"Predictions\": preds}, axis = 1)\n",
    "        \n",
    "        predictions.append(combined)\n",
    "        \n",
    "    return pd.concat(predictions)"
   ]
  },
  {
   "cell_type": "markdown",
   "id": "cfd74fc1",
   "metadata": {},
   "source": [
    "In the above code, we created a loop and wrapped it in a function, to make it easier to work with. A function means we can easily call it later. The function will take the data, the machine learning model, and the predictors as inputs. We'll also set start and step as optional parameters.\n",
    "\n",
    "In the backtesting function, we;\n",
    "\n",
    "- Split the training and test data\n",
    "- Train a model\n",
    "- Make predictions on the test data using predict_proba(we use the predict_proba method to get the probabilities of the price going up, not just 0s and 1s)\n",
    "- Combine our predictions with the actual Target, so we can calculate error easily\n",
    "- Return all of the predictions\n",
    "\n",
    "This function will enable us to create predictions across our whole dataset whenever we want."
   ]
  },
  {
   "cell_type": "markdown",
   "id": "d80b2445",
   "metadata": {},
   "source": [
    "### Running the Function"
   ]
  },
  {
   "cell_type": "markdown",
   "id": "03b23d81",
   "metadata": {},
   "source": [
    "Now that we have created the backtest engine, we can call it anywhere in the notebook to generate our predictions across the whole dataset"
   ]
  },
  {
   "cell_type": "code",
   "execution_count": 104,
   "id": "65b2a502",
   "metadata": {},
   "outputs": [],
   "source": [
    "predictions = backtest(data, model, predictors)"
   ]
  },
  {
   "cell_type": "code",
   "execution_count": 105,
   "id": "2f705027",
   "metadata": {},
   "outputs": [
    {
     "data": {
      "text/html": [
       "<div>\n",
       "<style scoped>\n",
       "    .dataframe tbody tr th:only-of-type {\n",
       "        vertical-align: middle;\n",
       "    }\n",
       "\n",
       "    .dataframe tbody tr th {\n",
       "        vertical-align: top;\n",
       "    }\n",
       "\n",
       "    .dataframe thead th {\n",
       "        text-align: right;\n",
       "    }\n",
       "</style>\n",
       "<table border=\"1\" class=\"dataframe\">\n",
       "  <thead>\n",
       "    <tr style=\"text-align: right;\">\n",
       "      <th></th>\n",
       "      <th>Target</th>\n",
       "      <th>Predictions</th>\n",
       "    </tr>\n",
       "    <tr>\n",
       "      <th>Date</th>\n",
       "      <th></th>\n",
       "      <th></th>\n",
       "    </tr>\n",
       "  </thead>\n",
       "  <tbody>\n",
       "    <tr>\n",
       "      <th>1984-11-27</th>\n",
       "      <td>1.0</td>\n",
       "      <td>0.0</td>\n",
       "    </tr>\n",
       "    <tr>\n",
       "      <th>1984-11-28</th>\n",
       "      <td>1.0</td>\n",
       "      <td>0.0</td>\n",
       "    </tr>\n",
       "    <tr>\n",
       "      <th>1984-11-29</th>\n",
       "      <td>0.0</td>\n",
       "      <td>0.0</td>\n",
       "    </tr>\n",
       "    <tr>\n",
       "      <th>1984-11-30</th>\n",
       "      <td>0.0</td>\n",
       "      <td>0.0</td>\n",
       "    </tr>\n",
       "    <tr>\n",
       "      <th>1984-12-03</th>\n",
       "      <td>0.0</td>\n",
       "      <td>0.0</td>\n",
       "    </tr>\n",
       "    <tr>\n",
       "      <th>...</th>\n",
       "      <td>...</td>\n",
       "      <td>...</td>\n",
       "    </tr>\n",
       "    <tr>\n",
       "      <th>2023-03-08</th>\n",
       "      <td>1.0</td>\n",
       "      <td>0.0</td>\n",
       "    </tr>\n",
       "    <tr>\n",
       "      <th>2023-03-09</th>\n",
       "      <td>0.0</td>\n",
       "      <td>0.0</td>\n",
       "    </tr>\n",
       "    <tr>\n",
       "      <th>2023-03-10</th>\n",
       "      <td>0.0</td>\n",
       "      <td>0.0</td>\n",
       "    </tr>\n",
       "    <tr>\n",
       "      <th>2023-03-13</th>\n",
       "      <td>1.0</td>\n",
       "      <td>0.0</td>\n",
       "    </tr>\n",
       "    <tr>\n",
       "      <th>2023-03-14</th>\n",
       "      <td>1.0</td>\n",
       "      <td>0.0</td>\n",
       "    </tr>\n",
       "  </tbody>\n",
       "</table>\n",
       "<p>9651 rows × 2 columns</p>\n",
       "</div>"
      ],
      "text/plain": [
       "            Target  Predictions\n",
       "Date                           \n",
       "1984-11-27     1.0          0.0\n",
       "1984-11-28     1.0          0.0\n",
       "1984-11-29     0.0          0.0\n",
       "1984-11-30     0.0          0.0\n",
       "1984-12-03     0.0          0.0\n",
       "...            ...          ...\n",
       "2023-03-08     1.0          0.0\n",
       "2023-03-09     0.0          0.0\n",
       "2023-03-10     0.0          0.0\n",
       "2023-03-13     1.0          0.0\n",
       "2023-03-14     1.0          0.0\n",
       "\n",
       "[9651 rows x 2 columns]"
      ]
     },
     "execution_count": 105,
     "metadata": {},
     "output_type": "execute_result"
    }
   ],
   "source": [
    "predictions"
   ]
  },
  {
   "cell_type": "code",
   "execution_count": 106,
   "id": "f207453d",
   "metadata": {},
   "outputs": [
    {
     "data": {
      "text/plain": [
       "0.0    8833\n",
       "1.0     818\n",
       "Name: Predictions, dtype: int64"
      ]
     },
     "execution_count": 106,
     "metadata": {},
     "output_type": "execute_result"
    }
   ],
   "source": [
    "predictions[\"Predictions\"].value_counts()"
   ]
  },
  {
   "cell_type": "code",
   "execution_count": 107,
   "id": "5bf0c5f7",
   "metadata": {},
   "outputs": [
    {
     "data": {
      "text/plain": [
       "1.0    4841\n",
       "0.0    4810\n",
       "Name: Target, dtype: int64"
      ]
     },
     "execution_count": 107,
     "metadata": {},
     "output_type": "execute_result"
    }
   ],
   "source": [
    "predictions[\"Target\"].value_counts()"
   ]
  },
  {
   "cell_type": "code",
   "execution_count": 108,
   "id": "f8f32ea9",
   "metadata": {},
   "outputs": [
    {
     "data": {
      "text/plain": [
       "0.5122249388753056"
      ]
     },
     "execution_count": 108,
     "metadata": {},
     "output_type": "execute_result"
    }
   ],
   "source": [
    "precision_score(predictions[\"Target\"], predictions[\"Predictions\"])"
   ]
  },
  {
   "cell_type": "markdown",
   "id": "431bdaf0",
   "metadata": {},
   "source": [
    "As you can see from the codes above, we got the value_counts and the precisions_core. And the value_counts tell us how many days we predicted that the price will go up, and as we can see it predicted that it will go up 817 days, and that is because we set the threshold to .6 . If we were to lower the threshold, we would get more days the price will go up but the precision will be low.\n",
    "\n",
    "Also if you see the precison score we got, you'll see it's actually low. We would add more predictors to the model to increase the accuracy."
   ]
  },
  {
   "cell_type": "markdown",
   "id": "aaa13d4b",
   "metadata": {},
   "source": [
    "## Improving Accuracy of the Model"
   ]
  },
  {
   "cell_type": "markdown",
   "id": "20e8d072",
   "metadata": {},
   "source": [
    "You can see that our model wasn't accurate from the above codes, but the good news is we can make predictions across the full dataset. Now what we can do is to add more predictors to improve the accuracy.\n",
    "\n",
    "We'll add in some rolling means, so the model can evaluate the current price against recent prices. We'll also look at the ratios between different indicators."
   ]
  },
  {
   "cell_type": "markdown",
   "id": "565edb05",
   "metadata": {},
   "source": [
    "### Rolling Means"
   ]
  },
  {
   "cell_type": "markdown",
   "id": "4d5b94b6",
   "metadata": {},
   "source": [
    "Rolling means helps the algorithm evaluate the current price against the average price this week, quarter, or year. For example, if the price now is higher than the annual price, it could mean that the stock is on an upward trend or vise versa. Rolling averages are useful for finding long-term trends otherwise disguised by occasional fluctuations.\n",
    "\n",
    "We will use the pandas __[rolling](https://pandas.pydata.org/docs/reference/api/pandas.DataFrame.rolling.html)__ method to calculate the rolling mean of the Close column for different time horizons."
   ]
  },
  {
   "cell_type": "code",
   "execution_count": 109,
   "id": "ff51a877",
   "metadata": {},
   "outputs": [],
   "source": [
    "weekly_mean = data.rolling(7).mean()[\"Close\"]\n",
    "bi_weekly_mean = data.rolling(14).mean()[\"Close\"]\n",
    "monthly_mean = data.rolling(30).mean()[\"Close\"]\n",
    "quarterly_mean = data.rolling(90).mean()[\"Close\"]\n",
    "annual_mean = data.rolling(365).mean()[\"Close\"]\n"
   ]
  },
  {
   "cell_type": "markdown",
   "id": "18913dd8",
   "metadata": {},
   "source": [
    "We can also tell the algorithm how many days in the last week the price has gone up. We can do this by using the pandas shift and rolling methods:\n",
    "\n",
    "- We'll shift the data forward, so we're not incorporating information from the current day into our predictor. If we don't use shift, then the algorithm would have knowledge of the actual target and that would not make our algorithm good with real world data.\n",
    "- Find the 7-day rolling sum of the target. If the price went up for all 7 days, this would be 7. If it went up 0 days, this would be 0."
   ]
  },
  {
   "cell_type": "code",
   "execution_count": 110,
   "id": "5d546f7e",
   "metadata": {},
   "outputs": [],
   "source": [
    "weekly_trend = data.shift(1).rolling(7).mean()[\"Target\"]"
   ]
  },
  {
   "cell_type": "markdown",
   "id": "5356fea2",
   "metadata": {},
   "source": [
    "Now we will add our ratios"
   ]
  },
  {
   "cell_type": "code",
   "execution_count": 111,
   "id": "85053c0e",
   "metadata": {},
   "outputs": [],
   "source": [
    "data[\"weekly_mean\"] = weekly_mean / data[\"Close\"]\n",
    "data[\"bi_weekly_mean\"] = bi_weekly_mean / data[\"Close\"]\n",
    "data[\"monthly_mean\"] = monthly_mean / data[\"Close\"]\n",
    "data[\"quarterly_mean\"] = quarterly_mean / data[\"Close\"]\n",
    "data[\"annual_mean\"] = annual_mean / data[\"Close\"]"
   ]
  },
  {
   "cell_type": "markdown",
   "id": "778b986c",
   "metadata": {},
   "source": [
    "Next, we'll add in the ratios between different rolling means. This helps the algorithm understand what the weekly trend is relative to the annual trend."
   ]
  },
  {
   "cell_type": "code",
   "execution_count": 112,
   "id": "13b30178",
   "metadata": {},
   "outputs": [],
   "source": [
    "data[\"annual_weekly_mean\"] = data[\"annual_mean\"] / data[\"weekly_mean\"]\n",
    "data[\"annual_bi_weekly_mean\"] = data[\"annual_mean\"] / data[\"bi_weekly_mean\"]\n",
    "data[\"annual_monthly_mean\"] = data[\"annual_mean\"] / data[\"monthly_mean\"]\n",
    "data[\"annual_quarterly_mean\"] = data[\"annual_mean\"] / data[\"quarterly_mean\"]"
   ]
  },
  {
   "cell_type": "markdown",
   "id": "b34010eb",
   "metadata": {},
   "source": [
    "Next, we'll add our weekly trend into the predictor DataFrame."
   ]
  },
  {
   "cell_type": "code",
   "execution_count": 113,
   "id": "569603af",
   "metadata": {},
   "outputs": [],
   "source": [
    "data[\"weekly_trend\"] = weekly_trend"
   ]
  },
  {
   "cell_type": "markdown",
   "id": "42a1922f",
   "metadata": {},
   "source": [
    "Then, we'll add some ratios between intraday open, low, and high prices and the close price. This helps the algorithm understand what the price trend was during the last day. For example, if the high was much higher than the close price, it may mean that the stock was on a downward trend at the end of the day."
   ]
  },
  {
   "cell_type": "code",
   "execution_count": 114,
   "id": "736b1826",
   "metadata": {},
   "outputs": [],
   "source": [
    "data[\"open_close_ratio\"] = data[\"Open\"] / data[\"Close\"]\n",
    "data[\"high_close_ratio\"] = data[\"High\"] / data[\"Close\"]\n",
    "data[\"low_close_ratio\"] = data[\"Low\"] / data[\"Close\"]"
   ]
  },
  {
   "cell_type": "markdown",
   "id": "e7783095",
   "metadata": {},
   "source": [
    "Now we'll update our predictors list with our new predictors."
   ]
  },
  {
   "cell_type": "code",
   "execution_count": 115,
   "id": "033bb9f1",
   "metadata": {},
   "outputs": [],
   "source": [
    "new_predictors = predictors + [\"weekly_mean\", \"bi_weekly_mean\", \"monthly_mean\", \"quarterly_mean\", \"annual_mean\",\n",
    "                              \"annual_weekly_mean\", \"annual_bi_weekly_mean\", \"annual_monthly_mean\", \n",
    "                               \"annual_quarterly_mean\", \"weekly_trend\"]"
   ]
  },
  {
   "cell_type": "markdown",
   "id": "b22b8d52",
   "metadata": {},
   "source": [
    "### Updating the Predictors"
   ]
  },
  {
   "cell_type": "markdown",
   "id": "4ce34ebd",
   "metadata": {},
   "source": [
    "We can now update our predictions with our new predictors. We have remove the first 365 rows because our rolling means will have NaN values for the first 365 rows. We want to make sure we have consistent data for every row that we make predictions for."
   ]
  },
  {
   "cell_type": "code",
   "execution_count": 116,
   "id": "e2436a8f",
   "metadata": {},
   "outputs": [],
   "source": [
    "predictions = backtest(data.iloc[365:], model, new_predictors)"
   ]
  },
  {
   "cell_type": "code",
   "execution_count": 117,
   "id": "e9d46820",
   "metadata": {},
   "outputs": [
    {
     "data": {
      "text/plain": [
       "0.5096618357487923"
      ]
     },
     "execution_count": 117,
     "metadata": {},
     "output_type": "execute_result"
    }
   ],
   "source": [
    "precision_score(predictions[\"Target\"], predictions[\"Predictions\"])"
   ]
  },
  {
   "cell_type": "markdown",
   "id": "75cd26fc",
   "metadata": {},
   "source": [
    "Our model has a precision of 0.5—in other words, when it predicts a tumor is malignant, it is correct 50% of the time"
   ]
  },
  {
   "cell_type": "markdown",
   "id": "70966416",
   "metadata": {},
   "source": [
    "### Prediction Evaluation"
   ]
  },
  {
   "cell_type": "markdown",
   "id": "c5853239",
   "metadata": {},
   "source": [
    "Now, we can check to see how many trades we would have made. We can again do this with value_counts.\n"
   ]
  },
  {
   "cell_type": "code",
   "execution_count": 118,
   "id": "b01b5ae8",
   "metadata": {},
   "outputs": [
    {
     "data": {
      "text/plain": [
       "0.0    8872\n",
       "1.0     414\n",
       "Name: Predictions, dtype: int64"
      ]
     },
     "execution_count": 118,
     "metadata": {},
     "output_type": "execute_result"
    }
   ],
   "source": [
    "predictions[\"Predictions\"].value_counts()"
   ]
  },
  {
   "cell_type": "markdown",
   "id": "f0fde971",
   "metadata": {},
   "source": [
    "As you can see, we would have made 414 trades using this algorithm. We'd have had a close to 60% chance that the price went up when our algorithm thought it would. This is a decent start, but there are a lot of next steps we can take to improve the algorithm further!"
   ]
  },
  {
   "cell_type": "code",
   "execution_count": 119,
   "id": "0666541c",
   "metadata": {},
   "outputs": [
    {
     "data": {
      "text/plain": [
       "<AxesSubplot:xlabel='Date'>"
      ]
     },
     "execution_count": 119,
     "metadata": {},
     "output_type": "execute_result"
    },
    {
     "data": {
      "image/png": "[encoded data removed]",
      "text/plain": [
       "<Figure size 432x288 with 1 Axes>"
      ]
     },
     "metadata": {
      "needs_background": "light"
     },
     "output_type": "display_data"
    }
   ],
   "source": [
    "# Look at trades we would have made in the last 100 days\n",
    "\n",
    "predictions.iloc[-100:].plot()"
   ]
  },
  {
   "cell_type": "markdown",
   "id": "57be5ec9",
   "metadata": {},
   "source": [
    "It did not predict any upward trend "
   ]
  }
 ],
 "metadata": {
  "kernelspec": {
   "display_name": "Python 3 (ipykernel)",
   "language": "python",
   "name": "python3"
  },
  "language_info": {
   "codemirror_mode": {
    "name": "ipython",
    "version": 3
   },
   "file_extension": ".py",
   "mimetype": "text/x-python",
   "name": "python",
   "nbconvert_exporter": "python",
   "pygments_lexer": "ipython3",
   "version": "3.9.12"
  }
 },
 "nbformat": 4,
 "nbformat_minor": 5
}
